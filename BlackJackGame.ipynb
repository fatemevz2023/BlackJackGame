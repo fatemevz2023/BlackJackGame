{
  "cells": [
    {
      "cell_type": "markdown",
      "metadata": {
        "id": "C3kodizcGsae"
      },
      "source": [
        "Random and Shuffle module and making cards"
      ]
    },
    {
      "cell_type": "code",
      "execution_count": null,
      "metadata": {
        "id": "AeDJAFTZGsa2"
      },
      "outputs": [],
      "source": [
        "suits=('Hearts','Diamonds','Spads','Clube')\n",
        "ranks=('Two','Three','Four','Five','Six','Seven','Eight','Nine','Ten','Jack','Queen','King','Ace')\n",
        "values = {'Two':2,'Three':3,'Four':4,'Five':5,'Six':6,'Seven':7,'Eight':8,\n",
        "          'Nine':9,'Ten':10,'Jack':10,'Queen':10,'King':10,'Ace':11}\n",
        "import random\n",
        "playing = True"
      ]
    },
    {
      "cell_type": "markdown",
      "metadata": {
        "id": "ypfHp4ckGsa5"
      },
      "source": [
        "Creating a card class"
      ]
    },
    {
      "cell_type": "code",
      "execution_count": null,
      "metadata": {
        "id": "NEhG7OJRGsa7"
      },
      "outputs": [],
      "source": [
        "class Card:\n",
        "    def __init__(self,suit,rank):\n",
        "        self.suit = suit\n",
        "        self.rank = rank\n",
        "        self.value = values[rank]\n",
        "    def __str__(self):\n",
        "        return f\"{self.rank} of {self.suit}\""
      ]
    },
    {
      "cell_type": "markdown",
      "source": [
        "Creating a batch class"
      ],
      "metadata": {
        "id": "JxGLRDdHzJ4_"
      }
    },
    {
      "cell_type": "code",
      "execution_count": null,
      "metadata": {
        "id": "iJj-OUjnGsa-"
      },
      "outputs": [],
      "source": [
        "class Deck:\n",
        "    def __init__(self):\n",
        "       self.cards =[]\n",
        "       for suit in suits:\n",
        "         for rank in ranks:\n",
        "           self.cards.append(Card(suit,rank))\n",
        "    def __str__(self):\n",
        "        deck_comp = \"\"\n",
        "        for card in self.cards:\n",
        "            deck_comp += \"\\n\" + card.__str__()\n",
        "        return \"The deck has:\" + deck_comp\n",
        "    def shuffle(self):\n",
        "        # TODO\n",
        "        random.shuffle(self.cards)\n",
        "\n",
        "    def deal(self):\n",
        "        # TODO\n",
        "        single_card = self.cards.pop()\n",
        "        return single_card\n",
        "\n",
        "\n",
        "\n",
        "\n",
        "\n",
        "\n",
        ""
      ]
    },
    {
      "cell_type": "code",
      "execution_count": null,
      "metadata": {
        "id": "tKE3aGwxGsa_"
      },
      "outputs": [],
      "source": [
        "test_deck = Deck()"
      ]
    },
    {
      "cell_type": "code",
      "execution_count": null,
      "metadata": {
        "id": "ckteYC69GsbB"
      },
      "outputs": [],
      "source": [
        "test_deck.shuffle()"
      ]
    },
    {
      "cell_type": "code",
      "execution_count": null,
      "metadata": {
        "colab": {
          "base_uri": "https://localhost:8080/"
        },
        "id": "z7gEpI-fGsbI",
        "outputId": "8b0ea094-54b0-4635-bc00-a8a390fd058e"
      },
      "outputs": [
        {
          "output_type": "stream",
          "name": "stdout",
          "text": [
            "The deck has:\n",
            "Ten of Clube\n",
            "Five of Clube\n",
            "King of Hearts\n",
            "Seven of Hearts\n",
            "Five of Hearts\n",
            "Four of Diamonds\n",
            "Four of Clube\n",
            "Seven of Diamonds\n",
            "Eight of Hearts\n",
            "Two of Clube\n",
            "Eight of Diamonds\n",
            "Six of Diamonds\n",
            "Eight of Clube\n",
            "Jack of Clube\n",
            "Five of Spads\n",
            "Jack of Spads\n",
            "Five of Diamonds\n",
            "Ten of Hearts\n",
            "Queen of Hearts\n",
            "Ten of Spads\n",
            "Three of Clube\n",
            "King of Diamonds\n",
            "King of Clube\n",
            "Three of Hearts\n",
            "Four of Hearts\n",
            "Nine of Hearts\n",
            "Nine of Diamonds\n",
            "Jack of Diamonds\n",
            "King of Spads\n",
            "Ace of Diamonds\n",
            "Six of Spads\n",
            "Six of Hearts\n",
            "Queen of Diamonds\n",
            "Two of Spads\n",
            "Ace of Spads\n",
            "Ace of Clube\n",
            "Four of Spads\n",
            "Seven of Clube\n",
            "Eight of Spads\n",
            "Jack of Hearts\n",
            "Nine of Clube\n",
            "Ten of Diamonds\n",
            "Three of Diamonds\n",
            "Queen of Clube\n",
            "Two of Diamonds\n",
            "Ace of Hearts\n",
            "Seven of Spads\n",
            "Nine of Spads\n",
            "Three of Spads\n",
            "Two of Hearts\n",
            "Queen of Spads\n",
            "Six of Clube\n"
          ]
        }
      ],
      "source": [
        "print(test_deck)"
      ]
    },
    {
      "cell_type": "code",
      "execution_count": null,
      "metadata": {
        "id": "Bt5Pzqh1GsbK"
      },
      "outputs": [],
      "source": [
        "class Hand:\n",
        "    def __init__(self):\n",
        "        # TODO\n",
        "        self.cards = []\n",
        "        self.value = 0\n",
        "        self.aces = 0\n",
        "\n",
        "    def add_card(self,card):\n",
        "        # TODO\n",
        "        self.cards.append(card)\n",
        "        self.value += card.value\n",
        "        if card.rank == \"Ace\":\n",
        "            self.aces += 1\n",
        "\n",
        "\n",
        "    def adjust_for_aces(self):\n",
        "        # TODO\n",
        "        while self.value > 21 and self.aces:\n",
        "            self.value -= 10\n",
        "            self.aces -= 1\n",
        ""
      ]
    },
    {
      "cell_type": "code",
      "execution_count": null,
      "metadata": {
        "colab": {
          "base_uri": "https://localhost:8080/"
        },
        "id": "myK1_O2rGsbM",
        "outputId": "e5b2efb4-f27a-4c4c-e39f-cd27bc8dfbb8"
      },
      "outputs": [
        {
          "output_type": "stream",
          "name": "stdout",
          "text": [
            "True\n",
            "Five of Diamonds\n",
            "5\n",
            "15\n"
          ]
        }
      ],
      "source": [
        "if 2:\n",
        "    print('True')\n",
        "test_deck = Deck()\n",
        "test_deck.shuffle()\n",
        "test_player = Hand()\n",
        "pulled_card = test_deck.deal()\n",
        "print(pulled_card)\n",
        "test_player.add_card(pulled_card)\n",
        "print(test_player.value)\n",
        "test_player.add_card(test_deck.deal())\n",
        "print(test_player.value)"
      ]
    },
    {
      "cell_type": "code",
      "execution_count": null,
      "metadata": {
        "id": "oIpKAv-9GsbN"
      },
      "outputs": [],
      "source": [
        "class Chips:\n",
        "    def __init__(self,total=100):\n",
        "        # TODO\n",
        "        self.total = total\n",
        "        self.bet = 0\n",
        "    def win_bet(self):\n",
        "        # TODO\n",
        "        self.total += self.bet\n",
        "    def lose_bet(self):\n",
        "        # TODO\n",
        "        self.total -= self.bet\n",
        ""
      ]
    },
    {
      "cell_type": "markdown",
      "metadata": {
        "id": "BQwCODQIGsbP"
      },
      "source": [
        "Betting function"
      ]
    },
    {
      "cell_type": "code",
      "execution_count": null,
      "metadata": {
        "id": "2EIJgNGZGsbP"
      },
      "outputs": [],
      "source": [
        "def take_bet(chips):\n",
        "    # TODO\n",
        "    while True:\n",
        "        try:\n",
        "            chips.bet = int(input(\"How many chips would you like to bet? \"))\n",
        "        except ValueError:\n",
        "            print(\"Sorry, a bet must be an integer!\")\n",
        "        else:\n",
        "            if chips.bet > chips.total:\n",
        "                print(f\"Sorry, your bet can't exceed {chips.total}\")\n",
        "            else:\n",
        "                break"
      ]
    },
    {
      "cell_type": "markdown",
      "metadata": {
        "id": "6ccgc4nAGsbR"
      },
      "source": [
        "Card request function"
      ]
    },
    {
      "cell_type": "code",
      "execution_count": null,
      "metadata": {
        "id": "oGc_crttGsbU"
      },
      "outputs": [],
      "source": [
        "def hit(deck, hand):\n",
        "    # TODO\n",
        "    card = deck.deal()\n",
        "    hand.add_card(card)\n",
        "    hand.adjust_for_aces()"
      ]
    },
    {
      "cell_type": "markdown",
      "metadata": {
        "id": "16w_zcgxGsbb"
      },
      "source": [
        "Decision function to continue the game or stop the card drawing process"
      ]
    },
    {
      "cell_type": "code",
      "execution_count": null,
      "metadata": {
        "id": "oTdgW923Gsbc"
      },
      "outputs": [],
      "source": [
        "def hit_or_stand(deck,hand):\n",
        "    global playing\n",
        "\n",
        "    while True:\n",
        "        choice = input(\"Do you want to hit or stand? Enter 'h' or 's': \")\n",
        "\n",
        "        if choice.lower() == 'h':\n",
        "            hand.add_card(deck.deal())\n",
        "\n",
        "            if hand.value > 21:\n",
        "                hand.adjust_for_aces()\n",
        "\n",
        "            print(f\"\\nPlayer's hand: {hand}\\n\")\n",
        "\n",
        "            if hand.value > 21:\n",
        "                print(\"Player busts!\")\n",
        "                return 'bust'\n",
        "\n",
        "        elif choice.lower() == 's':\n",
        "            print(\"Player stands.\")\n",
        "            playing = False\n",
        "            return 'stand'\n",
        "\n",
        "        else:\n",
        "            print(\"Invalid input. Please enter 'h' or 's'.\")\n",
        "    pass"
      ]
    },
    {
      "cell_type": "markdown",
      "metadata": {
        "id": "HiNlPZSXGsbe"
      },
      "source": [
        "Game completion check functions"
      ]
    },
    {
      "cell_type": "code",
      "execution_count": null,
      "metadata": {
        "id": "DAKzx8NjGsbf"
      },
      "outputs": [],
      "source": [
        "def show_some(player,dealer):\n",
        "    # TODO\n",
        "    print(\"Player's Hand:\")\n",
        "    for card in player.cards:\n",
        "        print(card)\n",
        "    print(\"\\nDealer's Hand:\")\n",
        "    print(\"<hidden card>\")\n",
        "    for card in dealer.cards[1:]:\n",
        "        print(card)"
      ]
    },
    {
      "cell_type": "code",
      "execution_count": null,
      "metadata": {
        "id": "lOtoAXfNGsbg"
      },
      "outputs": [],
      "source": [
        "def show_all(player,dealer):\n",
        "    print('Dealers hand: ')\n",
        "    # TODO\n",
        "    print(\"Dealer's Hand:\")\n",
        "    print(\" <card hidden>\")\n",
        "    print('',dealer.cards[1])\n",
        "    print(\"\\nPlayer's Hand:\", *player.cards, sep='\\n ')"
      ]
    },
    {
      "cell_type": "code",
      "execution_count": null,
      "metadata": {
        "id": "_T-7l3N4Gsbi"
      },
      "outputs": [],
      "source": [
        "def player_busts(player,dealer,chips):\n",
        "    # TODO\n",
        "    print(\"Player busts!\")\n",
        "    chips.lose_bet()\n",
        ""
      ]
    },
    {
      "cell_type": "code",
      "execution_count": null,
      "metadata": {
        "id": "vRz8_Pe-Gsbj"
      },
      "outputs": [],
      "source": [
        "def player_wins(player,dealer,chips):\n",
        "    # TODO\n",
        "    print('Player wins!')\n",
        "    chips.win_bet()\n",
        ""
      ]
    },
    {
      "cell_type": "code",
      "execution_count": null,
      "metadata": {
        "id": "bjdWGUn3Gsbk"
      },
      "outputs": [],
      "source": [
        "def dealer_busts(player,dealer,chips):\n",
        "    # TODO\n",
        "    print(\"Dealer busts!\")\n",
        "    chips.win_bet()\n",
        ""
      ]
    },
    {
      "cell_type": "code",
      "execution_count": null,
      "metadata": {
        "id": "_FQO-adFGsbl"
      },
      "outputs": [],
      "source": [
        "def dealer_wins(player,dealer,chips):\n",
        "    # TODO\n",
        "    print('Dealer wins!')\n",
        "    chips.lose_bet()\n",
        ""
      ]
    },
    {
      "cell_type": "code",
      "execution_count": null,
      "metadata": {
        "id": "W1s17uhrGsbp"
      },
      "outputs": [],
      "source": [
        "def push(player,dealer):\n",
        "    print('Dealer and player tie! push')"
      ]
    },
    {
      "cell_type": "markdown",
      "metadata": {
        "id": "VsORg9FTGsbq"
      },
      "source": [
        "The main block\n"
      ]
    },
    {
      "cell_type": "code",
      "execution_count": null,
      "metadata": {
        "id": "HTcpaonwGsbr"
      },
      "outputs": [],
      "source": [
        "while True:\n",
        "    print('welcome to Black Jack')\n",
        "    # TODO\n",
        "\n",
        "    # create & shuffle the deck, deal two cards to each player\n",
        "    deck = Deck()\n",
        "    deck.shuffle()\n",
        "\n",
        "    player_hand = Hand()\n",
        "    player_hand.add_card(deck.deal())\n",
        "    player_hand.add_card(deck.deal())\n",
        "\n",
        "    dealer_hand = Hand()\n",
        "    dealer_hand.add_card(deck.deal())\n",
        "    dealer_hand.add_card(deck.deal())\n",
        "\n",
        "    # set up the Player's chips\n",
        "    player_chips = Chips()\n",
        "\n",
        "    # prompt the Player for their bet\n",
        "    take_bet(player_chips)\n",
        "\n",
        "    # show cards (but keep one dealer card hidden)\n",
        "    show_some(player_hand, dealer_hand)\n",
        "\n",
        "    while playing:  # recall this variable from our hit_or_stand function\n",
        "\n",
        "        # prompt for Player to Hit or Stand\n",
        "        hit_or_stand(deck, player_hand)\n",
        "\n",
        "        # show cards (but keep one dealer card hidden)\n",
        "        show_some(player_hand, dealer_hand)\n",
        "\n",
        "        # if player's hand exceeds 21, run player_busts() and break out of loop\n",
        "        if player_hand.value > 21:\n",
        "            player_busts(player_hand, dealer_hand, player_chips)\n",
        "            break\n",
        "\n",
        "    # if Player hasn't busted, play Dealer's hand until Dealer reaches 17\n",
        "    if player_hand.value <= 21:\n",
        "\n",
        "        while dealer_hand.value < 17:\n",
        "            hit(deck, dealer_hand)\n",
        "\n",
        "        # show all cards\n",
        "        show_all(player_hand, dealer_hand)\n",
        "\n",
        "        # run different winning scenarios\n",
        "        if dealer_hand.value > 21:\n",
        "            dealer_busts(player_hand, dealer_hand, player_chips)\n",
        "\n",
        "        elif dealer_hand.value > player_hand.value:\n",
        "            dealer_wins(player_hand, dealer_hand, player_chips)\n",
        "\n",
        "        elif dealer_hand.value < player_hand.value:\n",
        "            player_wins(player_hand, dealer_hand, player_chips)\n",
        "\n",
        "        else:\n",
        "            push(player_hand, dealer_hand)\n",
        "\n",
        "    # inform Player of their chips total\n",
        "    print(\"\\nPlayer's winnings stand at\",player_chips.total)\n",
        "\n",
        "    # ask to play again\n",
        "    new_game = input(\"Would you like to play another hand? Enter 'y' or 'n' \")\n",
        "\n",
        "    if new_game[0].lower() == 'y':\n",
        "        playing = True\n",
        "        continue\n",
        "    else:\n",
        "        print(\"Thanks for playing!\")\n",
        "        break\n",
        "\n",
        ""
      ]
    },
    {
      "cell_type": "code",
      "execution_count": null,
      "metadata": {
        "id": "AtOQhUKdGsbs"
      },
      "outputs": [],
      "source": []
    }
  ],
  "metadata": {
    "kernelspec": {
      "display_name": "Python 3",
      "language": "python",
      "name": "python3"
    },
    "language_info": {
      "codemirror_mode": {
        "name": "ipython",
        "version": 3
      },
      "file_extension": ".py",
      "mimetype": "text/x-python",
      "name": "python",
      "nbconvert_exporter": "python",
      "pygments_lexer": "ipython3",
      "version": "3.8.5"
    },
    "colab": {
      "provenance": []
    }
  },
  "nbformat": 4,
  "nbformat_minor": 0
}